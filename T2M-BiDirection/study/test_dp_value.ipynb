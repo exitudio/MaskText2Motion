{
 "cells": [
  {
   "cell_type": "code",
   "execution_count": 1,
   "metadata": {},
   "outputs": [],
   "source": [
    "import numpy as np\n",
    "import torch\n",
    "import torch.nn as nn"
   ]
  },
  {
   "cell_type": "code",
   "execution_count": 41,
   "metadata": {},
   "outputs": [],
   "source": [
    "class TestModule(nn.Module):\n",
    "    def __init__(self):\n",
    "        super().__init__()\n",
    "        self.linear = nn.Linear(2,2)\n",
    "        self.register_buffer('test', torch.ones(1))\n",
    "        self.test2 = torch.tensor(1)\n",
    "        weight = torch.tensor(1000)\n",
    "        self.test3 = nn.Parameter(weight, requires_grad = False)\n",
    "\n",
    "    def forward(self, x):\n",
    "        # print(self.test)\n",
    "        x = self.linear(x)\n",
    "        m = torch.rand(1)\n",
    "        self.test = m\n",
    "        # print('m:', m.detach().cpu().numpy())\n",
    "        # print('self.test:', self.test.detach().cpu().numpy())\n",
    "        return x\n",
    "net = TestModule()\n",
    "net = torch.nn.DataParallel(net)\n",
    "net.cuda()\n",
    "x = net(torch.rand(20000,2).cuda())\n",
    "net.module.test = x.mean()"
   ]
  },
  {
   "cell_type": "code",
   "execution_count": 51,
   "metadata": {},
   "outputs": [
    {
     "data": {
      "text/plain": [
       "(tensor(-0.1757, device='cuda:0', grad_fn=<MeanBackward0>),\n",
       " tensor(-0.1757, device='cuda:0', grad_fn=<MeanBackward0>))"
      ]
     },
     "execution_count": 51,
     "metadata": {},
     "output_type": "execute_result"
    }
   ],
   "source": [
    "x = net(torch.rand(20000,2).cuda())\n",
    "net.module.test = x.mean()\n",
    "net.module.test\n",
    "x.mean(), net.module.test"
   ]
  }
 ],
 "metadata": {
  "kernelspec": {
   "display_name": "T2M-GPT",
   "language": "python",
   "name": "python3"
  },
  "language_info": {
   "codemirror_mode": {
    "name": "ipython",
    "version": 3
   },
   "file_extension": ".py",
   "mimetype": "text/x-python",
   "name": "python",
   "nbconvert_exporter": "python",
   "pygments_lexer": "ipython3",
   "version": "3.8.11"
  },
  "orig_nbformat": 4
 },
 "nbformat": 4,
 "nbformat_minor": 2
}
