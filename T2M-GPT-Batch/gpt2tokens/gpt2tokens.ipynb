{
 "cells": [
  {
   "attachments": {},
   "cell_type": "markdown",
   "metadata": {},
   "source": [
    "### Change 2 places in /T2M-GPT-Batch/models/t2m_trans.py"
   ]
  },
  {
   "attachments": {},
   "cell_type": "markdown",
   "metadata": {},
   "source": [
    "1. Attention  [CausalCrossConditionalSelfAttention]"
   ]
  },
  {
   "cell_type": "code",
   "execution_count": 2,
   "metadata": {},
   "outputs": [
    {
     "data": {
      "text/plain": [
       "tensor([[1., 0., 0., 0., 0., 0.],\n",
       "        [0., 1., 0., 0., 0., 0.],\n",
       "        [1., 1., 1., 0., 0., 0.],\n",
       "        [1., 1., 0., 1., 0., 0.],\n",
       "        [1., 1., 1., 1., 1., 0.],\n",
       "        [1., 1., 1., 1., 0., 1.]])"
      ]
     },
     "execution_count": 2,
     "metadata": {},
     "output_type": "execute_result"
    }
   ],
   "source": [
    "import torch\n",
    "import math\n",
    "block_size = 6\n",
    "m = torch.tril(torch.ones(block_size, block_size))\n",
    "idx = torch.arange(math.floor(block_size/2)).unsqueeze(-1)*2\n",
    "m[idx+1, idx] = 0\n",
    "m"
   ]
  },
  {
   "attachments": {},
   "cell_type": "markdown",
   "metadata": {},
   "source": [
    "2. Sample "
   ]
  },
  {
   "cell_type": "code",
   "execution_count": null,
   "metadata": {},
   "outputs": [],
   "source": [
    "# Change sample to this:\n",
    "def sample(self, clip_feature, if_categorial=False):\n",
    "    for k in range(math.ceil(self.block_size/2)):\n",
    "        if k == 0:\n",
    "            x = []\n",
    "        else:\n",
    "            x = xs\n",
    "        logits = self.forward(x, clip_feature)\n",
    "        logits = logits[:, -2:, :]\n",
    "        probs = F.softmax(logits, dim=-1)\n",
    "        if if_categorial:\n",
    "            dist = Categorical(probs)\n",
    "            idx = dist.sample()\n",
    "            # if idx == self.num_vq:\n",
    "            #     break\n",
    "            idx = idx.unsqueeze(-1)\n",
    "        else:\n",
    "            _, idx = torch.topk(probs, k=1, dim=-1)\n",
    "            # if idx[0] == self.num_vq:\n",
    "            #     break\n",
    "        # append to the sequence and continue\n",
    "        idx = idx.squeeze(-1)\n",
    "        if k == 0:\n",
    "            xs = idx\n",
    "        else:\n",
    "            xs = torch.cat((xs, idx), dim=1)\n",
    "        \n",
    "        if k == self.block_size - 1:\n",
    "            return xs[:, :-1]\n",
    "    return xs"
   ]
  }
 ],
 "metadata": {
  "kernelspec": {
   "display_name": "T2M-GPT",
   "language": "python",
   "name": "python3"
  },
  "language_info": {
   "codemirror_mode": {
    "name": "ipython",
    "version": 3
   },
   "file_extension": ".py",
   "mimetype": "text/x-python",
   "name": "python",
   "nbconvert_exporter": "python",
   "pygments_lexer": "ipython3",
   "version": "3.8.11"
  },
  "orig_nbformat": 4
 },
 "nbformat": 4,
 "nbformat_minor": 2
}
