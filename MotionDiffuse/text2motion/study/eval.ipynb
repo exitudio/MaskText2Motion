{
 "cells": [
  {
   "cell_type": "code",
   "execution_count": 1,
   "metadata": {},
   "outputs": [],
   "source": [
    "import sys\n",
    "sys.path.append('../')\n",
    "os.chdir('../')\n",
    "# os.getcwd() # log absolute path to double check\n",
    "%reload_ext autoreload\n",
    "%autoreload 2\n",
    "\n",
    "from datetime import datetime\n",
    "import numpy as np\n",
    "import torch\n",
    "from datasets import get_dataset_motion_loader, get_motion_loader\n",
    "from models import MotionTransformer\n",
    "from utils.get_opt import get_opt\n",
    "from utils.metrics import *\n",
    "from datasets import EvaluatorModelWrapper\n",
    "from collections import OrderedDict\n",
    "from utils.plot_script import *\n",
    "from utils import paramUtil\n",
    "from utils.utils import *\n",
    "from trainers import DDPMTrainer\n",
    "\n",
    "from mmcv.runner import get_dist_info, init_dist\n",
    "from mmcv.parallel import MMDistributedDataParallel, MMDataParallel\n",
    "import glob\n",
    "\n",
    "from os.path import join as pjoin\n",
    "import sys"
   ]
  },
  {
   "cell_type": "code",
   "execution_count": 2,
   "metadata": {},
   "outputs": [],
   "source": [
    "mm_num_samples = 100\n",
    "mm_num_repeats = 30\n",
    "mm_num_times = 10\n",
    "\n",
    "diversity_times = 300\n",
    "replication_times = 1\n",
    "batch_size = 32\n",
    "\n",
    "dataset_opt_path = '/home/epinyoan/git/MaskText2Motion/MotionDiffuse/text2motion/checkpoints/kit/TEMP/opt.txt'"
   ]
  },
  {
   "cell_type": "code",
   "execution_count": 4,
   "metadata": {},
   "outputs": [
    {
     "data": {
      "text/plain": [
       "'/home/epinyoan/git/MaskText2Motion/MotionDiffuse/text2motion'"
      ]
     },
     "execution_count": 4,
     "metadata": {},
     "output_type": "execute_result"
    }
   ],
   "source": []
  },
  {
   "cell_type": "code",
   "execution_count": 5,
   "metadata": {},
   "outputs": [],
   "source": [
    "mean = np.load(pjoin('./checkpoints/kit/TEMP/meta/', 'mean.npy'))"
   ]
  },
  {
   "cell_type": "code",
   "execution_count": 6,
   "metadata": {},
   "outputs": [
    {
     "name": "stdout",
     "output_type": "stream",
     "text": [
      "Reading /home/epinyoan/git/MaskText2Motion/MotionDiffuse/text2motion/checkpoints/kit/TEMP/opt.txt\n",
      "Loading dataset kit ...\n",
      "opt.meta_dir: ./checkpoints/kit/TEMP/meta\n"
     ]
    },
    {
     "name": "stderr",
     "output_type": "stream",
     "text": [
      "100%|██████████| 300/300 [00:00<00:00, 2346.55it/s]"
     ]
    },
    {
     "name": "stdout",
     "output_type": "stream",
     "text": [
      "Pointer Pointing at 0\n",
      "Ground Truth Dataset Loading Completed!!!\n"
     ]
    },
    {
     "name": "stderr",
     "output_type": "stream",
     "text": [
      "\n"
     ]
    }
   ],
   "source": [
    "gt_loader, gt_dataset = get_dataset_motion_loader(dataset_opt_path, batch_size, torch.cuda)"
   ]
  },
  {
   "cell_type": "code",
   "execution_count": null,
   "metadata": {},
   "outputs": [],
   "source": []
  }
 ],
 "metadata": {
  "kernelspec": {
   "display_name": "motiondiffuse",
   "language": "python",
   "name": "python3"
  },
  "language_info": {
   "codemirror_mode": {
    "name": "ipython",
    "version": 3
   },
   "file_extension": ".py",
   "mimetype": "text/x-python",
   "name": "python",
   "nbconvert_exporter": "python",
   "pygments_lexer": "ipython3",
   "version": "3.10.6"
  },
  "orig_nbformat": 4
 },
 "nbformat": 4,
 "nbformat_minor": 2
}
