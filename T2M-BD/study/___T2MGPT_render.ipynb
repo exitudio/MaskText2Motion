{
 "cells": [
  {
   "cell_type": "code",
   "execution_count": 1,
   "metadata": {},
   "outputs": [],
   "source": [
    "import sys\n",
    "sys.path.append('../')\n",
    "import os\n",
    "os.chdir('../')\n",
    "%reload_ext autoreload\n",
    "%autoreload 2\n",
    "import matplotlib.pyplot as plt\n",
    "%matplotlib notebook\n",
    "%matplotlib inline\n",
    "os.environ[\"CUDA_VISIBLE_DEVICES\"]=\"1\" #,1,2,3"
   ]
  },
  {
   "cell_type": "code",
   "execution_count": 2,
   "metadata": {},
   "outputs": [],
   "source": [
    "from models.rotation2xyz import Rotation2xyz\n",
    "import numpy as np\n",
    "from trimesh import Trimesh\n",
    "import os\n",
    "os.environ['PYOPENGL_PLATFORM'] = \"osmesa\"\n",
    "\n",
    "import torch\n",
    "from visualize.simplify_loc2rot import joints2smpl\n",
    "import pyrender\n",
    "import matplotlib.pyplot as plt\n",
    "\n",
    "import io\n",
    "import imageio\n",
    "from shapely import geometry\n",
    "import trimesh\n",
    "from pyrender.constants import RenderFlags\n",
    "import math\n",
    "# import ffmpeg\n",
    "from PIL import Image\n",
    "from utils.motion_process import recover_from_ric\n",
    "from os.path import join as pjoin"
   ]
  },
  {
   "cell_type": "code",
   "execution_count": 3,
   "metadata": {},
   "outputs": [],
   "source": [
    "class WeakPerspectiveCamera(pyrender.Camera):\n",
    "    def __init__(self,\n",
    "                 scale,\n",
    "                 translation,\n",
    "                 znear=pyrender.camera.DEFAULT_Z_NEAR,\n",
    "                 zfar=None,\n",
    "                 name=None):\n",
    "        super(WeakPerspectiveCamera, self).__init__(\n",
    "            znear=znear,\n",
    "            zfar=zfar,\n",
    "            name=name,\n",
    "        )\n",
    "        self.scale = scale\n",
    "        self.translation = translation\n",
    "\n",
    "    def get_projection_matrix(self, width=None, height=None):\n",
    "        P = np.eye(4)\n",
    "        P[0, 0] = self.scale[0]\n",
    "        P[1, 1] = self.scale[1]\n",
    "        P[0, 3] = self.translation[0] * self.scale[0]\n",
    "        P[1, 3] = -self.translation[1] * self.scale[1]\n",
    "        P[2, 2] = -1\n",
    "        return P"
   ]
  },
  {
   "cell_type": "code",
   "execution_count": 4,
   "metadata": {},
   "outputs": [],
   "source": [
    "filedir = '/home/epinyoan/git/MaskText2Motion/T2M-BD/study/data/1a_temp.npy'\n",
    "pose = np.load(filedir)\n",
    "num_joints = 21 if pose.shape[-1] == 251 else 22\n",
    "meta_dir = 'checkpoints/t2m/VQVAEV3_CB1024_CMT_H1024_NRES3/meta'\n",
    "mean = np.load(pjoin(meta_dir, 'mean.npy'))\n",
    "std = np.load(pjoin(meta_dir, 'std.npy'))\n",
    "pose = pose * std + mean\n",
    "pose_xyz = recover_from_ric(torch.from_numpy(pose).float(), num_joints)\n",
    "pose_xyz = pose_xyz.numpy()\n",
    "motions = pose_xyz"
   ]
  },
  {
   "cell_type": "code",
   "execution_count": 5,
   "metadata": {},
   "outputs": [
    {
     "name": "stdout",
     "output_type": "stream",
     "text": [
      "./body_models/\n",
      "WARNING: You are using a SMPL model, with only 10 shape coefficients.\n"
     ]
    }
   ],
   "source": [
    "frames, njoints, nfeats = motions.shape\n",
    "MINS = motions.min(axis=0).min(axis=0)\n",
    "MAXS = motions.max(axis=0).max(axis=0)\n",
    "\n",
    "height_offset = MINS[1]\n",
    "motions[:, :, 1] -= height_offset\n",
    "trajec = motions[:, 0, [0, 2]]\n",
    "\n",
    "j2s = joints2smpl(num_frames=frames, device_id=0, cuda=True)\n",
    "rot2xyz = Rotation2xyz(device=torch.device(\"cuda:0\"))\n",
    "faces = rot2xyz.smpl_model.faces"
   ]
  },
  {
   "cell_type": "code",
   "execution_count": 6,
   "metadata": {},
   "outputs": [],
   "source": [
    "outdir = '/home/epinyoan/git/MaskText2Motion/T2M-BD/study/data/'\n",
    "vertices_name = filedir.split('/')[-1].split('.')[0] + '_vertices.pt'\n"
   ]
  },
  {
   "cell_type": "code",
   "execution_count": 7,
   "metadata": {},
   "outputs": [],
   "source": [
    "if (not os.path.exists(outdir + vertices_name)):\n",
    "    print(f'Running SMPLify, it may take a few minutes.')\n",
    "    motion_tensor, opt_dict = j2s.joint2smpl(motions)  # [nframes, njoints, 3]\n",
    "\n",
    "    vertices = rot2xyz(torch.tensor(motion_tensor).clone(), mask=None,\n",
    "                                    pose_rep='rot6d', translation=True, glob=True,\n",
    "                                    jointstype='vertices',\n",
    "                                    vertstrans=True)\n",
    "    torch.save(vertices, outdir + vertices_name)\n",
    "else:\n",
    "    vertices = torch.load(outdir + vertices_name)"
   ]
  },
  {
   "cell_type": "code",
   "execution_count": 8,
   "metadata": {},
   "outputs": [
    {
     "name": "stdout",
     "output_type": "stream",
     "text": [
      "torch.Size([1, 6890, 3, 196])\n"
     ]
    }
   ],
   "source": [
    "frames = vertices.shape[3] # shape: 1, nb_frames, 3, nb_joints\n",
    "print (vertices.shape)\n",
    "MINS = torch.min(torch.min(vertices[0], axis=0)[0], axis=1)[0]\n",
    "MAXS = torch.max(torch.max(vertices[0], axis=0)[0], axis=1)[0]\n",
    "# vertices[:,:,1,:] -= MINS[1] + 1e-5\n",
    "\n",
    "\n",
    "out_list = []\n",
    "\n",
    "minx = MINS[0] - 0.5\n",
    "maxx = MAXS[0] + 0.5\n",
    "minz = MINS[2] - 0.5 \n",
    "maxz = MAXS[2] + 0.5\n",
    "polygon = geometry.Polygon([[minx, minz], [minx, maxz], [maxx, maxz], [maxx, minz]])\n",
    "polygon_mesh = trimesh.creation.extrude_polygon(polygon, 1e-5)\n",
    "\n"
   ]
  },
  {
   "cell_type": "code",
   "execution_count": 9,
   "metadata": {},
   "outputs": [
    {
     "name": "stdout",
     "output_type": "stream",
     "text": [
      "0\n",
      "10\n",
      "20\n",
      "30\n",
      "40\n",
      "50\n",
      "60\n",
      "70\n",
      "80\n",
      "90\n",
      "100\n",
      "110\n",
      "120\n",
      "130\n",
      "140\n",
      "150\n",
      "160\n",
      "170\n",
      "180\n",
      "190\n"
     ]
    }
   ],
   "source": [
    "meshes = []\n",
    "polygon_renders = []\n",
    "for i in range(frames):\n",
    "    if i % 10 == 0:\n",
    "        print(i)\n",
    "\n",
    "        mesh = Trimesh(vertices=vertices[0, :, :, i].squeeze().tolist(), faces=faces)\n",
    "\n",
    "        base_color = (.5, 0.53, 0.8, 0.5)\n",
    "        ## OPAQUE rendering without alpha\n",
    "        ## BLEND rendering consider alpha \n",
    "        material = pyrender.MetallicRoughnessMaterial(\n",
    "            metallicFactor=0.2,\n",
    "            alphaMode='OPAQUE',\n",
    "            baseColorFactor=base_color\n",
    "        )\n",
    "        mesh = pyrender.Mesh.from_trimesh(mesh, material=material)\n",
    "\n",
    "        \n",
    "        meshes.append(mesh)\n",
    "        # polygon_renders.append(polygon_render)\n",
    "polygon_mesh.visual.face_colors = [.9, .9, .9, 0.9]\n",
    "polygon_material = pyrender.MetallicRoughnessMaterial(\n",
    "    metallicFactor=0.2,\n",
    "    alphaMode='OPAQUE',\n",
    "    smooth=True,\n",
    "    baseColorFactor=(.9, .9, .9, 0.9)\n",
    ")\n",
    "polygon_render = pyrender.Mesh.from_trimesh(polygon_mesh, smooth=False)"
   ]
  },
  {
   "cell_type": "code",
   "execution_count": 19,
   "metadata": {},
   "outputs": [
    {
     "data": {
      "image/png": "[encoded data removed]",
      "text/plain": [
       "<Figure size 640x480 with 1 Axes>"
      ]
     },
     "metadata": {},
     "output_type": "display_data"
    }
   ],
   "source": [
    "vid = []\n",
    "bg_color = [1, 1, 1, 0.8]\n",
    "scene = pyrender.Scene(bg_color=bg_color, ambient_light=(0.4, 0.4, 0.4))\n",
    "sx, sy, tx, ty = [0.75, 0.75, 0, 0.10]\n",
    "camera = pyrender.PerspectiveCamera(yfov=(np.pi / 4.0))\n",
    "# camera = pyrender.OrthographicCamera(xmag=1.0, ymag=1.0)\n",
    "light = pyrender.DirectionalLight(color=[1,1,1], intensity=300)\n",
    "c = -np.pi / 2\n",
    "\n",
    "for i, mesh in enumerate(meshes):\n",
    "    scene.add(mesh)\n",
    "scene.add(polygon_render, pose=np.array([[ 1, 0, 0, 0],\n",
    "    [ 0, np.cos(c), -np.sin(c), MINS[1].cpu().numpy()],\n",
    "    [ 0, np.sin(c), np.cos(c), 0],\n",
    "    [ 0, 0, 0, 1]]))\n",
    "\n",
    "light_pose = np.eye(4)\n",
    "light_pose[:3, 3] = [0, -1, 1]\n",
    "scene.add(light, pose=light_pose.copy())\n",
    "\n",
    "light_pose[:3, 3] = [0, 1, 1]\n",
    "scene.add(light, pose=light_pose.copy())\n",
    "\n",
    "light_pose[:3, 3] = [1, 1, 2]\n",
    "scene.add(light, pose=light_pose.copy())\n",
    "\n",
    "\n",
    "c = -np.pi / 8\n",
    "\n",
    "camera_y = 1.5\n",
    "scene.add(camera, pose=[[ 1, 0, 0, (minx+maxx).cpu().numpy()],\n",
    "\n",
    "                    [ 0, np.cos(c), -np.sin(c), camera_y],\n",
    "\n",
    "                    [ 0, np.sin(c), np.cos(c), max(4, minz.cpu().numpy()+(camera_y-MINS[1].cpu().numpy())*2, (maxx-minx).cpu().numpy())],\n",
    "\n",
    "                    [ 0, 0, 0, 1]\n",
    "                    ])\n",
    "# scene.add(camera, get_transformation_matrix(0, 0, 0, 3, 3, 3))\n",
    "# scene.add(camera, lookAt(eye=np.array([-2., 1., 1.]), target=np.array([0. ,0., 0.]), up=np.array([0.0, 0.0, 1.0]), yz_flip=False))\n",
    "# s = np.sqrt(2)/2\n",
    "# camera_pose = np.array([\n",
    "#     [0.0, -s,   s,   0.3],\n",
    "#     [1.0,  0.0, 0.0, 0.0],\n",
    "#     [0.0,  s,   s,   0.35],\n",
    "#     [0.0,  0.0, 0.0, 1.0],\n",
    "#  ])\n",
    "# scene.add(camera, camera_pose)\n",
    "\n",
    "# render scene\n",
    "r = pyrender.OffscreenRenderer(960, 960)\n",
    "\n",
    "color, _ = r.render(scene, flags=RenderFlags.SHADOWS_DIRECTIONAL ) # RenderFlags.RGBA\n",
    "# Image.fromarray(color).save(outdir+name+'_'+str(i)+'.png')\n",
    "\n",
    "vid.append(color)\n",
    "\n",
    "r.delete()\n",
    "imgplot = plt.imshow(vid[0])\n",
    "plt.show()"
   ]
  },
  {
   "cell_type": "code",
   "execution_count": 56,
   "metadata": {},
   "outputs": [
    {
     "data": {
      "text/plain": [
       "<pyrender.mesh.Mesh at 0x7f1be46a61c0>"
      ]
     },
     "execution_count": 56,
     "metadata": {},
     "output_type": "execute_result"
    }
   ],
   "source": [
    "mesh"
   ]
  },
  {
   "cell_type": "code",
   "execution_count": 45,
   "metadata": {},
   "outputs": [],
   "source": [
    "# https://github.com/xuelin-chen/pcl2pcl-gan-pub/blob/468639c7022d9eeb76fdcfe5e94faaa03834c63c/pc2pc/tools/render_results/render_test_results.py#L15\n",
    "def get_transformation_matrix(rx, ry, rz, tx, ty, tz):\n",
    "    angles = np.array([rx, ry, rz])\n",
    "    angles = angles / 180.0 * np.pi\n",
    "    Rx = np.array([[1,0,0, 0],\n",
    "                [0,np.cos(angles[0]),-np.sin(angles[0]),0],\n",
    "                [0,np.sin(angles[0]),np.cos(angles[0]),0],\n",
    "                [0,0,0,1]])\n",
    "    Ry = np.array([[np.cos(angles[1]),0,np.sin(angles[1]),0],\n",
    "                        [0,1,0,0],\n",
    "                        [-np.sin(angles[1]),0,np.cos(angles[1]),0],\n",
    "                        [0,0,0,1]])\n",
    "    Rz = np.array([[np.cos(angles[2]),-np.sin(angles[2]),0,0],\n",
    "                        [np.sin(angles[2]),np.cos(angles[2]),0,0],\n",
    "                        [0,0,1,0],\n",
    "                        [0,0,0,1]])\n",
    "    T = np.array([\n",
    "                [1.0, 0.0,  0.0, tx],\n",
    "                [0.0, 1.0,  0.0, ty],\n",
    "                [0.0, 0.0,  1.0, tz],\n",
    "                [0.0, 0.0,  0.0, 1.0],\n",
    "            ])\n",
    "    pose = np.dot(Rz, np.dot(Ry,Rx))\n",
    "    pose = np.dot(T, pose)\n",
    "    return pose"
   ]
  },
  {
   "cell_type": "code",
   "execution_count": 49,
   "metadata": {},
   "outputs": [],
   "source": [
    "# Camera LookAt\n",
    "# https://github.com/mmatl/pyrender/issues/249\n",
    "# https://github.com/Jianghanxiao/Helper3D/blob/master/trimesh_render/src/camera.py#L4\n",
    "# https://github.com/Jianghanxiao/Helper3D/blob/dad57f14b7df6558888168f704440757701e6e55/demo_open3d_render.py#L40\n",
    "\n",
    "def lookAt(eye, target, up, yz_flip=False):\n",
    "    # Normalize the up vector\n",
    "    up /= np.linalg.norm(up)\n",
    "    forward = eye - target\n",
    "    forward /= np.linalg.norm(forward)\n",
    "    if np.dot(forward, up) == 1 or np.dot(forward, up) == -1:\n",
    "        up = np.array([0.0, 1.0, 0.0])\n",
    "    right = np.cross(up, forward)\n",
    "    right /= np.linalg.norm(right)\n",
    "    new_up = np.cross(forward, right)\n",
    "    new_up /= np.linalg.norm(new_up)\n",
    "\n",
    "    # Construct a rotation matrix from the right, new_up, and forward vectors\n",
    "    rotation = np.eye(4)\n",
    "    rotation[:3, :3] = np.row_stack((right, new_up, forward))\n",
    "\n",
    "    # Apply a translation to the camera position\n",
    "    translation = np.eye(4)\n",
    "    translation[:3, 3] = [\n",
    "        np.dot(new_up, eye),\n",
    "        np.dot(right, eye),\n",
    "        -np.dot(forward, eye),\n",
    "    ]\n",
    "\n",
    "    if yz_flip:\n",
    "        # This is for different camera setting, like Open3D\n",
    "        rotation[1, :] *= -1\n",
    "        rotation[2, :] *= -1\n",
    "        translation[1, 3] *= -1\n",
    "        translation[2, 3] *= -1\n",
    "\n",
    "    camera_pose = np.linalg.inv(np.matmul(translation, rotation))\n",
    "\n",
    "    return camera_pose\n",
    "# camera_pose = lookAt(eye=np.array([-2., 1., 1.]), target=np.array([0. ,0., 0.]), up=np.array([0.0, 0.0, 1.0]), yz_flip=True)"
   ]
  }
 ],
 "metadata": {
  "kernelspec": {
   "display_name": "T2M-GPT",
   "language": "python",
   "name": "python3"
  },
  "language_info": {
   "codemirror_mode": {
    "name": "ipython",
    "version": 3
   },
   "file_extension": ".py",
   "mimetype": "text/x-python",
   "name": "python",
   "nbconvert_exporter": "python",
   "pygments_lexer": "ipython3",
   "version": "3.8.11"
  },
  "orig_nbformat": 4
 },
 "nbformat": 4,
 "nbformat_minor": 2
}
